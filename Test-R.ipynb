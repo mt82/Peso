{
 "cells": [
  {
   "cell_type": "code",
   "execution_count": 48,
   "metadata": {},
   "outputs": [
    {
     "data": {
      "text/html": [
       "<table>\n",
       "<thead><tr><th scope=col>num</th><th scope=col>let</th></tr></thead>\n",
       "<tbody>\n",
       "\t<tr><td>1</td><td>a</td></tr>\n",
       "\t<tr><td>2</td><td>b</td></tr>\n",
       "\t<tr><td>3</td><td>c</td></tr>\n",
       "</tbody>\n",
       "</table>\n"
      ],
      "text/latex": [
       "\\begin{tabular}{r|ll}\n",
       " num & let\\\\\n",
       "\\hline\n",
       "\t 1 & a\\\\\n",
       "\t 2 & b\\\\\n",
       "\t 3 & c\\\\\n",
       "\\end{tabular}\n"
      ],
      "text/markdown": [
       "\n",
       "| num | let |\n",
       "|---|---|\n",
       "| 1 | a |\n",
       "| 2 | b |\n",
       "| 3 | c |\n",
       "\n"
      ],
      "text/plain": [
       "  num let\n",
       "1 1   a  \n",
       "2 2   b  \n",
       "3 3   c  "
      ]
     },
     "metadata": {},
     "output_type": "display_data"
    }
   ],
   "source": [
    "num = c(1,2,3)\n",
    "let = c(\"a\",\"b\",\"c\")\n",
    "df = data.frame(num, let)\n",
    "df"
   ]
  },
  {
   "cell_type": "code",
   "execution_count": 52,
   "metadata": {},
   "outputs": [],
   "source": [
    "write(\"testo\",\"testo.txt\")\n",
    "write.csv(df,file=\"data1.csv\")   #write file with separator \",\"\n",
    "write.csv2(df,file=\"data2.csv\")  #write file with separator \";\"\n",
    "write.table(df,file=\"data3.txt\",sep=\"-\") #write file with custom separator \"-\"\n",
    "write(c(1,2,3),\"data4.txt\",sep=\";\")\n",
    "write(c(4,5,6),\"data4.txt\",sep=\";\",append=TRUE)"
   ]
  },
  {
   "cell_type": "code",
   "execution_count": 37,
   "metadata": {},
   "outputs": [],
   "source": [
    "testo <- scan(\"testo.txt\", what=character())\n",
    "# also from command prompt\n",
    "# enter for new line\n",
    "# ctrl-z to return to prompt\n",
    "# what can be logical, integer, numeric, complex, character, raw and list"
   ]
  },
  {
   "cell_type": "code",
   "execution_count": 51,
   "metadata": {},
   "outputs": [
    {
     "data": {
      "text/html": [
       "'character'"
      ],
      "text/latex": [
       "'character'"
      ],
      "text/markdown": [
       "'character'"
      ],
      "text/plain": [
       "[1] \"character\""
      ]
     },
     "metadata": {},
     "output_type": "display_data"
    },
    {
     "data": {
      "text/html": [
       "'testo'"
      ],
      "text/latex": [
       "'testo'"
      ],
      "text/markdown": [
       "'testo'"
      ],
      "text/plain": [
       "[1] \"testo\""
      ]
     },
     "metadata": {},
     "output_type": "display_data"
    }
   ],
   "source": [
    "mode(testo)"
   ]
  },
  {
   "cell_type": "code",
   "execution_count": 53,
   "metadata": {},
   "outputs": [
    {
     "name": "stdout",
     "output_type": "stream",
     "text": [
      "[1] \"data1\"\n"
     ]
    },
    {
     "data": {
      "text/html": [
       "<table>\n",
       "<thead><tr><th scope=col>X</th><th scope=col>num</th><th scope=col>let</th></tr></thead>\n",
       "<tbody>\n",
       "\t<tr><td>1</td><td>1</td><td>a</td></tr>\n",
       "\t<tr><td>2</td><td>2</td><td>b</td></tr>\n",
       "\t<tr><td>3</td><td>3</td><td>c</td></tr>\n",
       "</tbody>\n",
       "</table>\n"
      ],
      "text/latex": [
       "\\begin{tabular}{r|lll}\n",
       " X & num & let\\\\\n",
       "\\hline\n",
       "\t 1 & 1 & a\\\\\n",
       "\t 2 & 2 & b\\\\\n",
       "\t 3 & 3 & c\\\\\n",
       "\\end{tabular}\n"
      ],
      "text/markdown": [
       "\n",
       "| X | num | let |\n",
       "|---|---|---|\n",
       "| 1 | 1 | a |\n",
       "| 2 | 2 | b |\n",
       "| 3 | 3 | c |\n",
       "\n"
      ],
      "text/plain": [
       "  X num let\n",
       "1 1 1   a  \n",
       "2 2 2   b  \n",
       "3 3 3   c  "
      ]
     },
     "metadata": {},
     "output_type": "display_data"
    },
    {
     "name": "stdout",
     "output_type": "stream",
     "text": [
      "[1] \"data2\"\n"
     ]
    },
    {
     "data": {
      "text/html": [
       "<table>\n",
       "<thead><tr><th scope=col>X</th><th scope=col>num</th><th scope=col>let</th></tr></thead>\n",
       "<tbody>\n",
       "\t<tr><td>1</td><td>1</td><td>a</td></tr>\n",
       "\t<tr><td>2</td><td>2</td><td>b</td></tr>\n",
       "\t<tr><td>3</td><td>3</td><td>c</td></tr>\n",
       "</tbody>\n",
       "</table>\n"
      ],
      "text/latex": [
       "\\begin{tabular}{r|lll}\n",
       " X & num & let\\\\\n",
       "\\hline\n",
       "\t 1 & 1 & a\\\\\n",
       "\t 2 & 2 & b\\\\\n",
       "\t 3 & 3 & c\\\\\n",
       "\\end{tabular}\n"
      ],
      "text/markdown": [
       "\n",
       "| X | num | let |\n",
       "|---|---|---|\n",
       "| 1 | 1 | a |\n",
       "| 2 | 2 | b |\n",
       "| 3 | 3 | c |\n",
       "\n"
      ],
      "text/plain": [
       "  X num let\n",
       "1 1 1   a  \n",
       "2 2 2   b  \n",
       "3 3 3   c  "
      ]
     },
     "metadata": {},
     "output_type": "display_data"
    },
    {
     "name": "stdout",
     "output_type": "stream",
     "text": [
      "[1] \"data3\"\n"
     ]
    },
    {
     "data": {
      "text/html": [
       "<table>\n",
       "<thead><tr><th scope=col>num</th><th scope=col>let</th></tr></thead>\n",
       "<tbody>\n",
       "\t<tr><td>1</td><td>a</td></tr>\n",
       "\t<tr><td>2</td><td>b</td></tr>\n",
       "\t<tr><td>3</td><td>c</td></tr>\n",
       "</tbody>\n",
       "</table>\n"
      ],
      "text/latex": [
       "\\begin{tabular}{r|ll}\n",
       " num & let\\\\\n",
       "\\hline\n",
       "\t 1 & a\\\\\n",
       "\t 2 & b\\\\\n",
       "\t 3 & c\\\\\n",
       "\\end{tabular}\n"
      ],
      "text/markdown": [
       "\n",
       "| num | let |\n",
       "|---|---|\n",
       "| 1 | a |\n",
       "| 2 | b |\n",
       "| 3 | c |\n",
       "\n"
      ],
      "text/plain": [
       "  num let\n",
       "1 1   a  \n",
       "2 2   b  \n",
       "3 3   c  "
      ]
     },
     "metadata": {},
     "output_type": "display_data"
    },
    {
     "name": "stdout",
     "output_type": "stream",
     "text": [
      "[1] \"data4\"\n"
     ]
    },
    {
     "data": {
      "text/html": [
       "<table>\n",
       "<thead><tr><th scope=col>V1</th><th scope=col>V2</th><th scope=col>V3</th></tr></thead>\n",
       "<tbody>\n",
       "\t<tr><td>1</td><td>2</td><td>3</td></tr>\n",
       "\t<tr><td>4</td><td>5</td><td>6</td></tr>\n",
       "</tbody>\n",
       "</table>\n"
      ],
      "text/latex": [
       "\\begin{tabular}{r|lll}\n",
       " V1 & V2 & V3\\\\\n",
       "\\hline\n",
       "\t 1 & 2 & 3\\\\\n",
       "\t 4 & 5 & 6\\\\\n",
       "\\end{tabular}\n"
      ],
      "text/markdown": [
       "\n",
       "| V1 | V2 | V3 |\n",
       "|---|---|---|\n",
       "| 1 | 2 | 3 |\n",
       "| 4 | 5 | 6 |\n",
       "\n"
      ],
      "text/plain": [
       "  V1 V2 V3\n",
       "1 1  2  3 \n",
       "2 4  5  6 "
      ]
     },
     "metadata": {},
     "output_type": "display_data"
    }
   ],
   "source": [
    "data1 <- read.csv(\"data1.csv\")\n",
    "print(\"data1\")\n",
    "data1\n",
    "data2 <- read.csv2(\"data2.csv\")\n",
    "print(\"data2\")\n",
    "data2\n",
    "data3 <- read.table(\"data3.txt\",sep=\"-\")\n",
    "print(\"data3\")\n",
    "data3\n",
    "data4 <- read.table(\"data4.txt\",sep=\";\")\n",
    "print(\"data4\")\n",
    "data4"
   ]
  },
  {
   "cell_type": "code",
   "execution_count": 55,
   "metadata": {},
   "outputs": [],
   "source": [
    "zip(\"files.zip\", files=c(\"data1.csv\", \"data2.csv\", \"data3.txt\", \"data4.txt\", \"testo.txt\"))"
   ]
  },
  {
   "cell_type": "code",
   "execution_count": 57,
   "metadata": {},
   "outputs": [
    {
     "data": {
      "text/plain": [
       "          description                 class                  mode \n",
       "\"files.zip:data1.csv\"                 \"unz\"                   \"r\" \n",
       "                 text                opened              can read \n",
       "               \"text\"              \"closed\"                 \"yes\" \n",
       "            can write \n",
       "                \"yes\" "
      ]
     },
     "metadata": {},
     "output_type": "display_data"
    }
   ],
   "source": [
    "unz(\"files.zip\",\"data1.csv\")"
   ]
  },
  {
   "cell_type": "code",
   "execution_count": null,
   "metadata": {},
   "outputs": [],
   "source": []
  }
 ],
 "metadata": {
  "kernelspec": {
   "display_name": "R",
   "language": "R",
   "name": "ir"
  },
  "language_info": {
   "codemirror_mode": "r",
   "file_extension": ".r",
   "mimetype": "text/x-r-source",
   "name": "R",
   "pygments_lexer": "r",
   "version": "3.2.3"
  }
 },
 "nbformat": 4,
 "nbformat_minor": 2
}
